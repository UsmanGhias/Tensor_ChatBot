{
 "cells": [
  {
   "cell_type": "markdown",
   "id": "3e1ed391-146a-466e-98fe-73ac229ba751",
   "metadata": {},
   "source": [
    "# $$ Interacting With the Chatbot $$"
   ]
  },
  {
   "cell_type": "markdown",
   "id": "66a33372-6054-4b42-a473-55c4f153ee6d",
   "metadata": {},
   "source": [
    "1. Import necessary libraries:\n",
    "   - `tkinter` for creating the GUI.\n",
    "   - Your pre-trained chatbot model.\n",
    "   - Other relevant libraries for processing user input and generating responses.\n",
    "\n",
    "2. Create the GUI structure:\n",
    "   - Design the user interface with an input box for user messages and an area for displaying chat history.\n",
    "\n",
    "3. Define functions for processing user input:\n",
    "   - When the user enters a message, preprocess it (e.g., tokenize and lemmatize) to prepare it for the model.\n",
    "   - Use your pre-trained model to predict the intent of the user's message.\n",
    "   - Randomly select a response from the list of responses for that intent.\n",
    "\n",
    "4. Display the chat:\n",
    "   - Show the user's input and the chatbot's response in the chat history area.\n",
    "   - Update the chat history as the conversation progresses.\n",
    "\n",
    "5. Handle user interactions:\n",
    "   - Allow the user to enter messages and receive responses.\n",
    "   - Implement a way to end the conversation or exit the GUI."
   ]
  },
  {
   "cell_type": "code",
   "execution_count": 1,
   "id": "a6b759a1-8157-4aa1-9f40-b46ae20bd073",
   "metadata": {},
   "outputs": [],
   "source": [
    "import nltk\n",
    "from nltk.stem import WordNetLemmatizer\n",
    "lemmatizer = WordNetLemmatizer()\n",
    "import pickle\n",
    "import numpy as np"
   ]
  },
  {
   "cell_type": "markdown",
   "id": "c49353f7-57b1-48ec-ae84-3fddcef2e2ff",
   "metadata": {},
   "source": [
    "### Code Documentation\n",
    "\n",
    "**Step 1: Import Necessary Libraries**\n",
    "\n",
    "- We begin by importing essential libraries for our chatbot.\n",
    "- `nltk` provides natural language processing tools.\n",
    "- `WordNetLemmatizer` from `nltk.stem` is used for word lemmatization.\n",
    "- `pickle` is employed for data serialization.\n",
    "- `numpy` is imported as `np` for numerical operations.\n",
    "\n",
    "These libraries are crucial for text processing and data manipulation in our chatbot.\n",
    "\n",
    "**Step 2: Initialize Lemmatizer**\n",
    "\n",
    "- We initialize a WordNet lemmatizer (`lemmatizer`) to convert words to their base or canonical forms.\n",
    "- Lemmatization helps standardize words for effective text analysis.\n",
    "\n",
    "**Step 3: Additional Libraries**\n",
    "\n",
    "- We import `numpy` as `np` to work with numerical data, which is often required in machine learning applications.\n"
   ]
  },
  {
   "cell_type": "code",
   "execution_count": 2,
   "id": "db033678-0320-42f9-87d1-a78c74d6f89c",
   "metadata": {},
   "outputs": [],
   "source": [
    "from keras.models import load_model\n",
    "model = load_model('chatbot_model.h5')\n",
    "import json\n",
    "import random"
   ]
  },
  {
   "cell_type": "markdown",
   "id": "b2517b63-4224-4113-aeda-8c38a42e947a",
   "metadata": {},
   "source": [
    "### Code Documentation\n",
    "\n",
    "**Step 1: Load Pre-Trained Model by OurSelf**\n",
    "\n",
    "- We load a pre-trained chatbot model using the `load_model` function from the Keras library. This model has been saved previously and is stored in the 'chatbot_model.h5' file.\n",
    "- The loaded model is ready to make predictions and generate responses based on user input.\n",
    "\n",
    "**Step 2: Import Necessary Libraries**\n",
    "\n",
    "- We import additional libraries required for our chatbot.\n",
    "- `json` is used for handling structured data.\n",
    "- `random` is employed for generating random responses from a list of possible replies.\n",
    "\n"
   ]
  },
  {
   "cell_type": "code",
   "execution_count": 3,
   "id": "1a844a65-3169-4d3c-b75a-77cb4aa20175",
   "metadata": {},
   "outputs": [],
   "source": [
    "intents = json.loads(open('intents.json').read())\n",
    "words = pickle.load(open('words.pkl','rb'))\n",
    "classes = pickle.load(open('classes.pkl','rb'))"
   ]
  },
  {
   "cell_type": "markdown",
   "id": "438a8718-69ec-426c-9024-e617e3608897",
   "metadata": {},
   "source": [
    "### Code Documentation\n",
    "\n",
    "**Step 1: Load Intents and Vocabulary Data**\n",
    "\n",
    "- We load the intents and vocabulary data used in our chatbot.\n",
    "- `intents` is loaded from a JSON file named 'intents.json,' which contains predefined intents, patterns, and responses for the chatbot.\n",
    "- `words` and `classes` are loaded using the `pickle` library from 'words.pkl' and 'classes.pkl' files, respectively. These files store preprocessed data used for training the chatbot."
   ]
  },
  {
   "cell_type": "code",
   "execution_count": 4,
   "id": "1d28dc23-605f-4a6c-b7e1-1983d1280759",
   "metadata": {},
   "outputs": [],
   "source": [
    "def clean_up_sentence(sentence):\n",
    "    sentence_words = nltk.word_tokenize(sentence)\n",
    "    sentence_words = [lemmatizer.lemmatize(word.lower()) for words in sentence_words]\n",
    "    return sentence_words"
   ]
  },
  {
   "cell_type": "markdown",
   "id": "2f543662-41de-4a2f-8841-0d2204cca893",
   "metadata": {},
   "source": [
    "### Code Documentation\r\n",
    "\r\n",
    "**Clean Up Sentence Function**\r\n",
    "\r\n",
    "- This code defines a function called `clean_up_sentence`.\r\n",
    "- The function takes a sentence as input and prepares it for further processing.\r\n",
    "- It tokenizes the input sentence, breaking it down into individual words.\r\n",
    "- Then, it lemmatizes each word, reducing them to their base or canonical forms.\r\n",
    "- The processed words are converted to lowercase for consistency.\r\n",
    "- The function returns a list of cleaned and standardized words from the input sentence.\r\n",
    "\r\n",
    "This function is essential for text preprocessing, ensuring that user input is in a consistent format for analysis and response generation in our chatbot.\r\n"
   ]
  },
  {
   "cell_type": "code",
   "execution_count": 5,
   "id": "d1946fdf-8a41-451f-8c2a-dfd55a5b7252",
   "metadata": {},
   "outputs": [],
   "source": [
    "def bag_of_words(sentence, words, show_details=True):\n",
    "    # tokenizing patterns\n",
    "    sentence_words = clean_up_sentence(sentence)\n",
    "    # bag of words - vocabulary matrix\n",
    "    bag = [0]*len(words)  \n",
    "    for s in sentence_words:\n",
    "        for i,word in enumerate(words):\n",
    "            if word == s: \n",
    "                # assign 1 if current word is in the vocabulary position\n",
    "                bag[i] = 1\n",
    "                if show_details:\n",
    "                    print (\"found in bag: %s\" % word)\n",
    "\n",
    "    return(np.array(bag))"
   ]
  },
  {
   "cell_type": "markdown",
   "id": "09f33f53-16d5-4f73-bede-59fa64e5aa00",
   "metadata": {},
   "source": [
    "### Code Documentation\n",
    "\n",
    "**Bag of Words Function**\n",
    "\n",
    "- This code defines a function named `bag_of_words`.\n",
    "- The function takes a sentence, a list of words (vocabulary), and an optional `show_details` flag as inputs.\n",
    "\n",
    "**Step 1: Tokenization**\n",
    "- The input sentence is tokenized using the `clean_up_sentence` function, which processes and standardizes the words in the sentence.\n",
    "\n",
    "**Step 2: Vocabulary Matrix**\n",
    "- A bag of words (BoW) matrix is created, represented as a list of zeros with the same length as the vocabulary words.\n",
    "- Each element in the `bag` list corresponds to a word in the vocabulary.\n",
    "\n",
    "**Step 3: Filling the Bag**\n",
    "- For each word in the tokenized sentence, the code checks if it exists in the vocabulary.\n",
    "- If a word is found in the vocabulary, the corresponding position in the `bag` list is set to 1, indicating its presence.\n",
    "- If the `show_details` flag is True, it prints a message for each word found in the bag.\n",
    "\n",
    "**Step 4: Return the BoW Matrix**\n",
    "- The function returns the BoW matrix as a NumPy array, where each element represents the presence (1) or absence (0) of a word from the sentence in the vocabulary."
   ]
  },
  {
   "cell_type": "code",
   "execution_count": 6,
   "id": "41e6cddd-b4c7-4887-b84c-0b80756b3c4a",
   "metadata": {},
   "outputs": [],
   "source": [
    "def predict_class(sentence):\n",
    "    # filter below  threshold predictions\n",
    "    p = bag_of_words(sentence, words,show_details=False)\n",
    "    res = model.predict(np.array([p]))[0]\n",
    "    ERROR_THRESHOLD = 0.25\n",
    "    results = [[i,r] for i,r in enumerate(res) if r>ERROR_THRESHOLD]\n",
    "\n",
    "    # sorting strength probability\n",
    "    results.sort(key=lambda x: x[1], reverse=True)\n",
    "    return_list = []\n",
    "    for r in results:\n",
    "        return_list.append({\"intent\": classes[r[0]], \"probability\": str(r[1])})\n",
    "    return return_list"
   ]
  },
  {
   "cell_type": "markdown",
   "id": "552f5965-8cb0-42d8-9ce1-657ef269ef4e",
   "metadata": {},
   "source": [
    "### Code Documentation\n",
    "\n",
    "**Predict Class Function**\n",
    "\n",
    "- This code defines a function called `predict_class`.\n",
    "- The function is used to predict the intent class of a user's input sentence based on the chatbot's model.\n",
    "\n",
    "**Step 1: Encoding the Sentence**\n",
    "- The input sentence is encoded into a bag of words (BoW) matrix using the `bag_of_words` function. This step converts the sentence into a numerical representation for processing.\n",
    "\n",
    "**Step 2: Model Prediction**\n",
    "- The BoW matrix is passed to the chatbot model, and it predicts the probabilities of each intent class for the given input.\n",
    "- Probabilities are calculated for all intent classes.\n",
    "\n",
    "**Step 3: Filtering Predictions**\n",
    "- Predictions with probabilities below a defined threshold (ERROR_THRESHOLD) are filtered out. This threshold determines the minimum confidence level for considering an intent.\n",
    "- The filtered results are sorted by probability in descending order.\n",
    "\n",
    "**Step 4: Return Intent and Probability**\n",
    "- The function returns a list of intent-class and probability pairs.\n",
    "- Each pair includes the predicted intent and its corresponding probability.\n",
    "- The list is sorted in descending order of probability, starting with the most likely intent.\n",
    "\n",
    "This function is crucial for determining the user's intent based on their input sentence, allowing the chatbot to provide relevant responses.\n"
   ]
  },
  {
   "cell_type": "code",
   "execution_count": 7,
   "id": "7812e24a-0826-4284-a80a-b59ac5d335e7",
   "metadata": {},
   "outputs": [],
   "source": [
    "\n",
    "def getResponse(ints, intents_json):\n",
    "    tag = ints[0]['intent']\n",
    "    list_of_intents = intents_json['intents']\n",
    "    for i in list_of_intents:\n",
    "        if(i['tag']== tag):\n",
    "            result = random.choice(i['responses'])\n",
    "            break\n",
    "            \n",
    "    return result"
   ]
  },
  {
   "cell_type": "markdown",
   "id": "fb2dd8e8-9400-4e9e-abd3-808e13656f7b",
   "metadata": {},
   "source": [
    "### Code Documentation\n",
    "\n",
    "**Get Response Function**\n",
    "\n",
    "- This code defines a function called `getResponse`.\n",
    "- The function is responsible for selecting and returning a response based on the predicted intent.\n",
    "\n",
    "**Step 1: Identify the Intent**\n",
    "- The function takes a list of predicted intents (`ints`) and the intents JSON data (`intents_json`) as inputs.\n",
    "- It identifies the intent with the highest probability from the predictions.\n",
    "\n",
    "**Step 2: Retrieve Responses**\n",
    "- The code retrieves the list of intents and responses from the provided JSON data.\n",
    "- It iterates through the intents to find a match between the predicted intent and the intents in the JSON data.\n",
    "\n",
    "**Step 3: Random Response Selection**\n",
    "- Once a match is found, the function randomly selects a response from the list of responses associated with the matched intent.\n",
    "- This selected response is returned as the chatbot's reply.\n",
    "\n",
    "This function is vital for generating meaningful and contextually relevant responses to user inputs based on the predicted intent.\n"
   ]
  },
  {
   "cell_type": "markdown",
   "id": "19390603-8583-42fc-ace6-edb2e8740ce5",
   "metadata": {},
   "source": [
    "# GUI for ChatBot using Tkinter"
   ]
  },
  {
   "cell_type": "code",
   "execution_count": 8,
   "id": "8a6536d6-07cb-429b-99cd-bd115b5278d7",
   "metadata": {},
   "outputs": [],
   "source": [
    "import tkinter\n",
    "from tkinter import *\n",
    "\n",
    "def send():\n",
    "    msg = EntryBox.get(\"1.0\",'end-1c').strip()\n",
    "    EntryBox.delete(\"0.0\",END)\n",
    "    if msg != '':\n",
    "        ChatBox.config(state=NORMAL)\n",
    "        ChatBox.insert(END, \"You: \" + msg + '\\n\\n')\n",
    "        ChatBox.config(foreground=\"#446665\", font=(\"Verdana\", 12 )) \n",
    "\n",
    "        ints = predict_class(msg)\n",
    "        res = getResponse(ints, intents)\n",
    "        \n",
    "        ChatBox.insert(END, \"Bot: \" + res + '\\n\\n')           \n",
    "        ChatBox.config(state=DISABLED)\n",
    "        ChatBox.yview(END)"
   ]
  },
  {
   "cell_type": "markdown",
   "id": "3e4a7bab-5324-4256-b224-9dc0433df4e0",
   "metadata": {},
   "source": [
    "### Code Documentation\n",
    "\n",
    "**Message Sending Function**\n",
    "\n",
    "- This code defines a function called `send`, which is executed when the user sends a message in the chat interface.\n",
    "- The function performs several actions to manage and display the conversation.\n",
    "\n",
    "**Step 1: Get User Message**\n",
    "- The function retrieves the message entered by the user from the input box.\n",
    "- It trims leading and trailing whitespace to ensure that the message is clean and does not contain unnecessary spaces.\n",
    "\n",
    "**Step 2: Clear Input Box**\n",
    "- The input box is cleared to prepare it for the next user message.\n",
    "\n",
    "**Step 3: Display User Message**\n",
    "- If the user's message is not empty, it is displayed in the chat box with \"You:\" as the sender. The message is formatted for presentation.\n",
    "\n",
    "**Step 4: Predict Intent**\n",
    "- The user's message is passed to the `predict_class` function to determine its intent based on the chatbot's model.\n",
    "\n",
    "**Step 5: Generate and Display Bot Response**\n",
    "- The function uses the predicted intent to select and obtain a response from the chatbot's predefined intents.\n",
    "- The bot's response is displayed in the chat box with \"Bot:\" as the sender.\n",
    "\n",
    "**Step 6: Configure Chat Box**\n",
    "- The chat box is configured to control its appearance and scrolling behavior, ensuring a user-friendly chat interface.\n",
    "\n",
    "This function manages the flow of the conversation in the graphical user interface, facilitating user input and chatbot responses.\n"
   ]
  },
  {
   "cell_type": "code",
   "execution_count": 9,
   "id": "51dca583-1e44-42b3-9287-967ade76596c",
   "metadata": {},
   "outputs": [
    {
     "data": {
      "text/plain": [
       "''"
      ]
     },
     "execution_count": 9,
     "metadata": {},
     "output_type": "execute_result"
    }
   ],
   "source": [
    "root = Tk()\n",
    "root.title(\"Chatbot\")\n",
    "root.geometry(\"400x500\")\n",
    "root.resizable(width=FALSE, height=FALSE)"
   ]
  },
  {
   "cell_type": "markdown",
   "id": "7eb4ec65-5952-4698-9888-39234eb5f974",
   "metadata": {},
   "source": [
    "### Code Documentation\n",
    "\n",
    "**Initialize Chatbot GUI**\n",
    "\n",
    "- This code creates and initializes the graphical user interface (GUI) for the chatbot.\n",
    "- It uses the `Tk()` function to create a new GUI window.\n",
    "\n",
    "**Step 1: Set Window Title**\n",
    "- The GUI window is given a title, which is displayed in the window's title bar. In this case, it's set to \"Chatbot.\"\n",
    "\n",
    "**Step 2: Define Window Dimensions**\n",
    "- The `geometry` method is used to set the dimensions of the GUI window. In this code, it's set to a width of 400 pixels and a height of 500 pixels.\n",
    "\n",
    "**Step 3: Make Window Non-Resizable**\n",
    "- The `resizable` method is used to configure the window's resizing behavior. In this code, the window is set to be non-resizable, meaning users cannot change its dimensions.\n",
    "\n",
    "This code initializes the GUI, defines its appearance, and ensures it meets the desired dimensions and user interaction behavior.\n"
   ]
  },
  {
   "cell_type": "code",
   "execution_count": 10,
   "id": "c6618d63-623b-4746-b5c3-c189f885ae5f",
   "metadata": {},
   "outputs": [],
   "source": [
    "#Create Chat window\n",
    "ChatBox = Text(root, bd=0, bg=\"white\", height=\"8\", width=\"50\", font=\"Arial\",)\n",
    "\n",
    "ChatBox.config(state=DISABLED)"
   ]
  },
  {
   "cell_type": "markdown",
   "id": "e231a0c0-07e7-404b-b207-9ef9db0a8708",
   "metadata": {},
   "source": [
    "### Code Documentation\n",
    "\n",
    "**Create Chat Window**\n",
    "\n",
    "- This code segment creates a chat window within the GUI for the chatbot.\n",
    "\n",
    "**Step 1: Initialize Text Widget**\n",
    "- The `Text` widget is used to create a multi-line text box in the GUI, which will serve as the chat window.\n",
    "\n",
    "**Step 2: Configure Text Box**\n",
    "- `bd=0` removes the border around the text box.\n",
    "- `bg=\"white\"` sets the background color of the text box to white.\n",
    "- `height=\"8\"` specifies the initial height of the text box, allowing multiple lines of text.\n",
    "- `width=\"50\"` sets the initial width of the text box, indicating the number of characters it can display in a line.\n",
    "- `font=\"Arial\"` sets the font style of the text.\n",
    "\n",
    "**Step 3: Disable Initial Editing**\n",
    "- `ChatBox.config(state=DISABLED)` disables the ability to edit the text box initially. This ensures that the user cannot interact with it until it's enabled.\n",
    "\n",
    "This code segment establishes the chat window's appearance and behavior, readying it to display conversations between the user and the chatbot.\n"
   ]
  },
  {
   "cell_type": "code",
   "execution_count": 11,
   "id": "ce120f2f-8fd2-46cb-b298-b5e8cfa19f07",
   "metadata": {},
   "outputs": [],
   "source": [
    "#Bind scrollbar to Chat window\n",
    "scrollbar = Scrollbar(root, command=ChatBox.yview, cursor=\"heart\")\n",
    "ChatBox['yscrollcommand'] = scrollbar.set\n"
   ]
  },
  {
   "cell_type": "markdown",
   "id": "3d556a4b-45f2-49d5-a7a7-639a3cbb782c",
   "metadata": {},
   "source": [
    "### Code Documentation\n",
    "\n",
    "**Bind Scrollbar to Chat Window**\n",
    "\n",
    "- This code binds a scrollbar to the chat window, enabling users to scroll through the conversation history.\n",
    "\n",
    "**Step 1: Create Scrollbar**\n",
    "- A scrollbar widget is created using the `Scrollbar` function. This scrollbar will allow vertical scrolling.\n",
    "\n",
    "**Step 2: Set Scroll Command**\n",
    "- The `command` parameter of the scrollbar is set to `ChatBox.yview`, which means the scrollbar's behavior will be controlled by the chat text box (`ChatBox`).\n",
    "- The `cursor` parameter is set to \"heart\" to specify the cursor appearance over the scrollbar.\n",
    "\n",
    "**Step 3: Configure Chat Text Box**\n",
    "- The `yscrollcommand` attribute of the chat text box (`ChatBox`) is set to `scrollbar.set`. This binds the scrollbar to the chat box for vertical scrolling synchronization.\n",
    "\n",
    "By binding the scrollbar to the chat window, users can easily navigate through the conversation history, especially when it exceeds the visible area of the text box.\n"
   ]
  },
  {
   "cell_type": "code",
   "execution_count": 12,
   "id": "9a2a755f-dc36-476d-afb8-9475e240a4f1",
   "metadata": {},
   "outputs": [],
   "source": [
    "#Create Button to send message\n",
    "SendButton = Button(root, font=(\"Verdana\",12,'bold'), text=\"Send\", width=\"12\", height=5,\n",
    "                    bd=0, bg=\"#f9a602\", activebackground=\"#3c9d9b\",fg='#000000',\n",
    "                    command= send )"
   ]
  },
  {
   "cell_type": "markdown",
   "id": "719cfa32-247d-4695-bd29-648e40cbf269",
   "metadata": {},
   "source": [
    "### Code Documentation\n",
    "\n",
    "**Create Send Button**\n",
    "\n",
    "- This code segment creates a \"Send\" button within the chatbot's graphical user interface (GUI), allowing users to send their messages.\n",
    "\n",
    "**Step 1: Initialize Button**\n",
    "- The `Button` widget is used to create a button in the GUI.\n",
    "\n",
    "**Step 2: Configure Button Appearance**\n",
    "- `font=(\"Verdana\", 12, 'bold')` sets the font style and size for the button's text.\n",
    "- `text=\"Send\"` specifies the text displayed on the button.\n",
    "- `width=\"12\"` sets the button's width.\n",
    "- `height=5` determines the button's height.\n",
    "- `bd=0` removes the button's border.\n",
    "- `bg=\"#f9a602\"` sets the background color of the button.\n",
    "- `activebackground=\"#3c9d9b\"` specifies the background color when the button is clicked.\n",
    "- `fg='#000000'` sets the foreground color (text color) of the button.\n",
    "- `command=send` associates the button with the `send` function, defining the action to be performed when the button is clicked.\n",
    "\n",
    "This code creates a button that, when clicked, triggers the `send` function to send the user's message in the chat interface.\n"
   ]
  },
  {
   "cell_type": "code",
   "execution_count": 13,
   "id": "8422e189-55bb-4248-a1ae-068f899312eb",
   "metadata": {},
   "outputs": [],
   "source": [
    "#Create the box to enter message\n",
    "EntryBox = Text(root, bd=0, bg=\"white\",width=\"29\", height=\"5\", font=\"Arial\")\n",
    "#EntryBox.bind(\"<Return>\", send)"
   ]
  },
  {
   "cell_type": "markdown",
   "id": "5d81ab50-26ca-45e4-9c68-ea57d54b5869",
   "metadata": {},
   "source": [
    "### Code Documentation\n",
    "\n",
    "**Create Message Input Box**\n",
    "\n",
    "- This code creates an input box within the chatbot's graphical user interface (GUI) for users to enter their messages.\n",
    "\n",
    "**Step 1: Initialize Text Widget**\n",
    "- The `Text` widget is used to create a text input box in the GUI.\n",
    "\n",
    "**Step 2: Configure Input Box Appearance**\n",
    "- `bd=0` removes the border around the input box.\n",
    "- `bg=\"white\"` sets the background color of the input box to white.\n",
    "- `width=\"29\"` specifies the initial width of the input box, allowing for a certain number of characters in a line.\n",
    "- `height=\"5\"` determines the initial height of the input box, enabling multiple lines of text to be entered.\n",
    "- `font=\"Arial\"` sets the font style of the text in the input box.\n",
    "\n",
    "**Step 3: Bind Action (Optional)**\n",
    "- The code includes a line that is currently commented out (`#EntryBox.bind(\"<Return>\", send)`). This line is used to bind an action (the `send` function) to the Enter key press. It's currently commented, but it can be used to trigger the message sending action when the user presses Enter.\n",
    "\n",
    "This code segment creates an input box where users can type their messages for the chatbot, facilitating user interaction.\n"
   ]
  },
  {
   "cell_type": "code",
   "execution_count": 14,
   "id": "8fe8b00a-e91f-4ed8-b6b5-50d9b8e95a94",
   "metadata": {},
   "outputs": [],
   "source": [
    "root.mainloop()"
   ]
  },
  {
   "cell_type": "markdown",
   "id": "375ea0f8-462a-4949-9ae5-dd3133f40ab7",
   "metadata": {},
   "source": [
    "### Code Documentation\n",
    "\n",
    "**Run the GUI Main Loop**\n",
    "\n",
    "- This code initiates the main loop for the graphical user interface (GUI) of the chatbot.\n",
    "\n",
    "**Step 1: `root.mainloop()`**\n",
    "- The `mainloop` function is invoked on the `root` object, which represents the main GUI window.\n",
    "- This function is crucial for running the GUI application and continuously processing user interactions and events.\n",
    "\n",
    "By calling `root.mainloop()`, the chatbot's GUI becomes responsive and ready to interact with users, continuously updating the interface and handling user actions.\n"
   ]
  },
  {
   "cell_type": "code",
   "execution_count": null,
   "id": "0c3d7483-9ce5-460b-a6a6-de6e4bbd6f93",
   "metadata": {},
   "outputs": [],
   "source": []
  },
  {
   "cell_type": "code",
   "execution_count": null,
   "id": "16a6032a-8dd9-4671-be11-56e115019e59",
   "metadata": {},
   "outputs": [],
   "source": []
  }
 ],
 "metadata": {
  "kernelspec": {
   "display_name": "Python 3 (ipykernel)",
   "language": "python",
   "name": "python3"
  },
  "language_info": {
   "codemirror_mode": {
    "name": "ipython",
    "version": 3
   },
   "file_extension": ".py",
   "mimetype": "text/x-python",
   "name": "python",
   "nbconvert_exporter": "python",
   "pygments_lexer": "ipython3",
   "version": "3.11.5"
  }
 },
 "nbformat": 4,
 "nbformat_minor": 5
}
